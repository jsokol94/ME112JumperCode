{
 "cells": [
  {
   "cell_type": "markdown",
   "metadata": {},
   "source": [
    "# Basic Energy Calculations\n",
    "\n",
    "Jean-Christophe Perrin\n",
    "2018 March 5 Monday\n",
    "\n",
    "This notebook answers several fundamental questions about our jumper and energy required from it."
   ]
  },
  {
   "cell_type": "code",
   "execution_count": 3,
   "metadata": {},
   "outputs": [],
   "source": [
    "import numpy as np\n",
    "import JumperUtilities"
   ]
  },
  {
   "cell_type": "markdown",
   "metadata": {},
   "source": [
    "## Jumper Properties\n",
    "\n",
    "These are the basic properties of our robot from which we will calculate the energy required."
   ]
  },
  {
   "cell_type": "code",
   "execution_count": 4,
   "metadata": {},
   "outputs": [],
   "source": [
    "mass = 0.1 # [kg] the mass of the robot\n",
    "\n",
    "height = 1 # [m] the height the robot is required to jump\n",
    "g = 9.8 # [m/s^2]"
   ]
  },
  {
   "cell_type": "markdown",
   "metadata": {},
   "source": [
    "## How much energy is associated with being one meter above ground?\n",
    "\n",
    "This is easy to compute: $mgh$"
   ]
  },
  {
   "cell_type": "code",
   "execution_count": 8,
   "metadata": {},
   "outputs": [
    {
     "name": "stdout",
     "output_type": "stream",
     "text": [
      "Egrav =  0.98 [J]\n"
     ]
    }
   ],
   "source": [
    "potentialEnergy = mass*g*height\n",
    "\n",
    "print 'Egrav = ', potentialEnergy, '[J]'"
   ]
  },
  {
   "cell_type": "markdown",
   "metadata": {},
   "source": [
    "## How  much kinetic energy is needed at lift-off? \n",
    "\n",
    "As we saw on Monday, we need somewhat higher kinetic energy at liftoff than $mgh$. There is air drag. Also, as pieces of the mechanism oscillate or rattle during flight, the associated kinetic energy is not usefully converted to upward motion. You can estimate air drag. The \"rattling\" effect is harder to estimate and might be where a simulation helps.\n",
    "\n",
    "For a first pass, will estimate as a jump efficiency parameter."
   ]
  },
  {
   "cell_type": "code",
   "execution_count": 9,
   "metadata": {},
   "outputs": [
    {
     "name": "stdout",
     "output_type": "stream",
     "text": [
      "Ekin = 1.96 [J]\n"
     ]
    }
   ],
   "source": [
    "jumpEfficiency = 0.5 # [1] amount of stored energy \n",
    "kineticEnergy = potentialEnergy / jumpEfficiency\n",
    "\n",
    "print 'Ekinematic =', kineticEnergy, '[J]'"
   ]
  },
  {
   "cell_type": "markdown",
   "metadata": {},
   "source": [
    "## How much spring energy is needed to achieve the required kinetic energy at lift-off?\n",
    "\n",
    "As we saw on Monday, only about $^1/_2$ of the stored potential energy in the springs, $0.5 k (L_{max}^2-L_{min}^2)$, got usefully converted to upward kinetic energy, $0.5 m V_o^2$,  at liftoff. The acceleration plot of the main body tells the story: it starts with a steady positive acceleration as the legs start to come together (good); but there is a large negative spike as the legs lock into straight position and the foot leaves the ground (not so good). This part involves complicated accelerations and collisions of various parts of the mechanism. It might be the part most useful to try to simulate in Working Model.\n",
    "\n",
    "\\begin{equation}\n",
    "    E = k \\frac{L_{max}^2-L_{min}^2}{2}\n",
    "\\end{equation}\n",
    "\n",
    "Rearranging we find:\n",
    "\n",
    "\\begin{equation}\n",
    "    \\sqrt{\\frac{2E}{k} + L_{min}^2} = L_{max}\n",
    "\\end{equation}"
   ]
  },
  {
   "cell_type": "code",
   "execution_count": 12,
   "metadata": {},
   "outputs": [
    {
     "name": "stdout",
     "output_type": "stream",
     "text": [
      "Espring = 3.92 [J]\n",
      "Lmax =  0.28 [m]\n"
     ]
    }
   ],
   "source": [
    "springEfficiency = 0.5 # [1] Kinetic_energy.\n",
    "k = 1 # []\n",
    "Lmin = 0  # [m] minimum extension of spring\n",
    "\n",
    "springEnergy = kineticEnergy / springEfficiency\n",
    "Lmax = np.sqrt(2*springEnergy/k + Lmin**2)\n",
    "\n",
    "print 'Espring =', springEnergy, '[J]'\n",
    "print 'Lmax = ', Lmax, '[m]'"
   ]
  },
  {
   "cell_type": "markdown",
   "metadata": {},
   "source": [
    "## Will the gearmotor have enough torque to stretch or compress the springs to their maximum position?\n",
    "\n",
    "\\begin{equation}\n",
    "    F = k x\n",
    "\\end{equation}"
   ]
  },
  {
   "cell_type": "code",
   "execution_count": 15,
   "metadata": {},
   "outputs": [
    {
     "name": "stdout",
     "output_type": "stream",
     "text": [
      "Torque = 1.6800000000000002 [Nm]\n"
     ]
    }
   ],
   "source": [
    "bobbinDiam = 0.06 # [m]\n",
    "\n",
    "deltaX = Lmax - Lmin # [m]\n",
    "forceMotor = k * deltaX # [N]\n",
    "motorTorque = bobbinDiam * forceMotor # [Nm]\n",
    "\n",
    "print 'Torque =', motorTorque, '[Nm]'"
   ]
  },
  {
   "cell_type": "markdown",
   "metadata": {},
   "source": [
    "## How much energy will the motor consume in doing the compression and does the battery have plenty of energy to achieve it?\n",
    "\n",
    "You can get enough information from motor data sheets, etc. to estimate this. It's likely you have far more than enough battery energy."
   ]
  }
 ],
 "metadata": {
  "kernelspec": {
   "display_name": "Python 2",
   "language": "python",
   "name": "python2"
  },
  "language_info": {
   "codemirror_mode": {
    "name": "ipython",
    "version": 2
   },
   "file_extension": ".py",
   "mimetype": "text/x-python",
   "name": "python",
   "nbconvert_exporter": "python",
   "pygments_lexer": "ipython2",
   "version": "2.7.14"
  }
 },
 "nbformat": 4,
 "nbformat_minor": 2
}
